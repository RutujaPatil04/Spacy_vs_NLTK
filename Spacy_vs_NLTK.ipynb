{
 "cells": [
  {
   "cell_type": "code",
   "execution_count": 7,
   "id": "11a0e6dd-f04e-482d-b082-66bbea106a13",
   "metadata": {},
   "outputs": [],
   "source": [
    "import spacy #Spacy is object oriented,as we will create and use a object doc"
   ]
  },
  {
   "cell_type": "code",
   "execution_count": 8,
   "id": "c79cf382-3582-4283-ac14-b49a6ded9993",
   "metadata": {},
   "outputs": [
    {
     "name": "stdout",
     "output_type": "stream",
     "text": [
      "Dr. Strange loves  pav bhaji of mumbai.\n",
      "Hulk loves chat of  delhi\n"
     ]
    }
   ],
   "source": [
    "#Sentence Tokenization\n",
    "nlp = spacy.load(\"en_core_web_sm\") # load model for english\n",
    "\n",
    "doc = nlp(\"Dr. Strange loves  pav bhaji of mumbai. Hulk loves chat of  delhi\")\n",
    "\n",
    "for sentence in doc.sents:\n",
    "    print(sentence)"
   ]
  },
  {
   "cell_type": "code",
   "execution_count": 9,
   "id": "8dd5c511-cf01-4095-885e-79da26470dec",
   "metadata": {},
   "outputs": [
    {
     "name": "stdout",
     "output_type": "stream",
     "text": [
      "Dr.\n",
      "Strange\n",
      "loves\n",
      " \n",
      "pav\n",
      "bhaji\n",
      "of\n",
      "mumbai\n",
      ".\n",
      "Hulk\n",
      "loves\n",
      "chat\n",
      "of\n",
      " \n",
      "delhi\n"
     ]
    }
   ],
   "source": [
    "for sentence in doc.sents:\n",
    "    for word in sentence:\n",
    "        print(word)"
   ]
  },
  {
   "cell_type": "code",
   "execution_count": 12,
   "id": "55bff3d1-1ec9-4f2e-9d78-7eae7c29d446",
   "metadata": {},
   "outputs": [
    {
     "name": "stderr",
     "output_type": "stream",
     "text": [
      "[nltk_data] Downloading package punkt to\n",
      "[nltk_data]     C:\\Users\\fycs7\\AppData\\Roaming\\nltk_data...\n",
      "[nltk_data]   Unzipping tokenizers\\punkt.zip.\n"
     ]
    },
    {
     "data": {
      "text/plain": [
       "True"
      ]
     },
     "execution_count": 12,
     "metadata": {},
     "output_type": "execute_result"
    }
   ],
   "source": [
    "\n",
    "import nltk\n",
    "nltk.download(\"punkt\")"
   ]
  },
  {
   "cell_type": "code",
   "execution_count": 13,
   "id": "0cb9d37b-b2c6-406d-818a-39a3d176cf86",
   "metadata": {},
   "outputs": [
    {
     "data": {
      "text/plain": [
       "['Dr.', 'Strange loves  pav bhaji of mumbai.', 'Hulk loves chat of  delhi']"
      ]
     },
     "execution_count": 13,
     "metadata": {},
     "output_type": "execute_result"
    }
   ],
   "source": [
    "#1. NLTK is string processing library\n",
    "\n",
    "from nltk.tokenize import sent_tokenize\n",
    "sent_tokenize(\"Dr. Strange loves  pav bhaji of mumbai. Hulk loves chat of  delhi\")"
   ]
  },
  {
   "cell_type": "code",
   "execution_count": 16,
   "id": "f98de998-7a1d-4a78-93e7-c851a110abf9",
   "metadata": {},
   "outputs": [
    {
     "data": {
      "text/plain": [
       "['Dr',\n",
       " '.',\n",
       " 'Strange',\n",
       " 'loves',\n",
       " 'pav',\n",
       " 'bhaji',\n",
       " 'of',\n",
       " 'mumbai',\n",
       " '.',\n",
       " 'Hulk',\n",
       " 'loves',\n",
       " 'chat',\n",
       " 'of',\n",
       " 'delhi']"
      ]
     },
     "execution_count": 16,
     "metadata": {},
     "output_type": "execute_result"
    }
   ],
   "source": [
    "from nltk.tokenize import word_tokenize\n",
    "word_tokenize(\"Dr. Strange loves  pav bhaji of mumbai. Hulk loves chat of  delhi\")"
   ]
  },
  {
   "cell_type": "markdown",
   "id": "ad6ef569-6253-449f-a126-a1c528292a17",
   "metadata": {},
   "source": [
    "Spacy is object oriented\n",
    "Spacy is user friendly\n",
    "Provides most efficient NLP algorithm for a given task.Hence if you care about end result,go with spacy\n",
    "Spacy is new library and has a very active user community\n",
    "NLTK is mainly a string processing library\n",
    "NLTK is also user friendly but probably less user friendly compared to spacy\n",
    "\n",
    "provides access to many algorithms,if u care about specific algo and customizations go with nltk                                                      \n",
    "                                                                                         "
   ]
  },
  {
   "cell_type": "code",
   "execution_count": null,
   "id": "91d8dd5c-37c0-484b-a29e-383acb6bdcfa",
   "metadata": {},
   "outputs": [],
   "source": []
  }
 ],
 "metadata": {
  "kernelspec": {
   "display_name": "Python 3 (ipykernel)",
   "language": "python",
   "name": "python3"
  },
  "language_info": {
   "codemirror_mode": {
    "name": "ipython",
    "version": 3
   },
   "file_extension": ".py",
   "mimetype": "text/x-python",
   "name": "python",
   "nbconvert_exporter": "python",
   "pygments_lexer": "ipython3",
   "version": "3.10.0"
  }
 },
 "nbformat": 4,
 "nbformat_minor": 5
}
